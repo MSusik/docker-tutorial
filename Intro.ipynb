{
 "cells": [
  {
   "cell_type": "markdown",
   "metadata": {},
   "source": [
    "### What's the difference between Docker and a VM?\n",
    "\n",
    "Docker uses the same OS kernel as its host. Thus, it's much more lightweight. It uses layered filesystem (AuFS) that was not a standard in case of VMs. Similarly to VMs, Docker creates a local network for communication with host.\n",
    "\n",
    "Docker is not the only conteinerization mean - there are alternatives build on top of the Linux Containers project. \n"
   ]
  },
  {
   "cell_type": "markdown",
   "metadata": {},
   "source": [
    "### Let's say we want to run 1000 Ubuntu containers on a machine with 100GB HDD. Is it possible?\n",
    "\n",
    "Yes. Thanks to AuFS we will need only one copy of the base layers. Ubuntu container requires 188MB diskspace to run. So, we can do it even on a machine with only 200MB. Note that in case of VMs we would have to create 1000 copies of the filesystem and would not fit within 100GB."
   ]
  },
  {
   "cell_type": "markdown",
   "metadata": {},
   "source": [
    "### Why people use Docker?\n",
    "\n",
    "Imagine we're back to 2012. People use software like Ansible, Chef, Pupper, Vagrant, etc. There was no notion of containers or layers, and deployment was based on mundane configuration of virtual machines. While it was not a problem in case of small infrastructures, in case of large systems it took most of the operations team time.\n",
    "\n",
    "That was the primary reason Docker why was developed. Nowadays people see additional usecases:\n",
    "\n",
    "- simplifying configuration of development projects\n",
    "- managing pipelines in development process (dev -> test deployment -> production deployment)\n",
    "- possibility of running an environment very similar to the production system on a laptop\n",
    "- app isolation (machine learning services too!)\n",
    "- writing multitenant applications\n",
    "- continuos deployment\n",
    "\n",
    "![](./docker1.png)"
   ]
  },
  {
   "cell_type": "markdown",
   "metadata": {},
   "source": [
    "### Let's run docker\n",
    "\n",
    "`docker run -i -t ubuntu /bin/bash`\n",
    "\n",
    "When you run this command, the following happens (assuming you are using the default registry configuration):\n",
    "\n",
    "If you do not have the ubuntu image locally, Docker pulls it from your configured registry, as though you had run docker pull ubuntu manually.\n",
    "\n",
    "Docker creates a new container, as though you had run a docker container create command manually.\n",
    "\n",
    "Docker allocates a read-write filesystem to the container, as its final layer. This allows a running container to create or modify files and directories in its local filesystem.\n",
    "\n",
    "Docker creates a network interface to connect the container to the default network, since you did not specify any networking options. This includes assigning an IP address to the container. By default, containers can connect to external networks using the host machine’s network connection.\n",
    "\n",
    "Docker starts the container and executes /bin/bash. Because the container is running interactively and attached to your terminal (due to the -i and -t flags), you can provide input using your keyboard while the output is logged to your terminal.\n",
    "\n",
    "When you type exit to terminate the /bin/bash command, the container stops but is not removed. You can start it again or remove it."
   ]
  },
  {
   "cell_type": "code",
   "execution_count": null,
   "metadata": {},
   "outputs": [],
   "source": []
  }
 ],
 "metadata": {
  "kernelspec": {
   "display_name": "Python 3",
   "language": "python",
   "name": "python3"
  },
  "language_info": {
   "codemirror_mode": {
    "name": "ipython",
    "version": 3
   },
   "file_extension": ".py",
   "mimetype": "text/x-python",
   "name": "python",
   "nbconvert_exporter": "python",
   "pygments_lexer": "ipython3",
   "version": "3.5.2"
  }
 },
 "nbformat": 4,
 "nbformat_minor": 2
}
